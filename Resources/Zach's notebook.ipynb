{
 "cells": [
  {
   "cell_type": "code",
   "execution_count": 60,
   "metadata": {},
   "outputs": [],
   "source": [
    "#import dependencies\n",
    "import requests\n",
    "import json\n",
    "\n",
    "#define connection to OMDB\n",
    "url = \"http://www.omdbapi.com/?t=\"\n",
    "api_key = \"&apikey=a90790cc\""
   ]
  },
  {
   "cell_type": "code",
   "execution_count": 61,
   "metadata": {},
   "outputs": [],
   "source": [
    "response = requests.get(url + \"Troy\" + api_key)\n",
    "movie = response.json()"
   ]
  },
  {
   "cell_type": "code",
   "execution_count": 62,
   "metadata": {},
   "outputs": [],
   "source": [
    "#obtain movie data\n",
    "IMDB = 10*(float(movie['imdbRating']))\n",
    "Metacritic = float(movie['Metascore'])\n",
    "RottenTomatoesString = movie['Ratings'][1]['Value'].strip('%')\n",
    "RottenTomatoes = float(RottenTomatoesString)\n",
    "AvgScore = (RottenTomatoes+Metacritic+IMDB)/3\n",
    "Rating = movie['Rated']\n",
    "LengthString = movie['Runtime'].strip(' min')\n",
    "Length = float(LengthString)\n",
    "ReleaseDate = movie['Released']\n",
    "shitCount\n",
    "fuckCount\n",
    "damnCount\n",
    "bitchCount\n",
    "assholeCount\n",
    "assCount\n",
    "dickCount\n",
    "pussyCount\n",
    "cockCount\n"
   ]
  },
  {
   "cell_type": "code",
   "execution_count": null,
   "metadata": {},
   "outputs": [],
   "source": []
  }
 ],
 "metadata": {
  "kernelspec": {
   "display_name": "Python 3",
   "language": "python",
   "name": "python3"
  },
  "language_info": {
   "codemirror_mode": {
    "name": "ipython",
    "version": 3
   },
   "file_extension": ".py",
   "mimetype": "text/x-python",
   "name": "python",
   "nbconvert_exporter": "python",
   "pygments_lexer": "ipython3",
   "version": "3.6.5"
  }
 },
 "nbformat": 4,
 "nbformat_minor": 2
}
