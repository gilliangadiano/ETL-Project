{
 "cells": [
  {
   "cell_type": "code",
   "execution_count": 1,
   "metadata": {},
   "outputs": [],
   "source": [
    "import numpy as np\n",
    "import pandas as pd\n",
    "import requests\n",
    "import json"
   ]
  },
  {
   "cell_type": "code",
   "execution_count": 2,
   "metadata": {},
   "outputs": [],
   "source": [
    "# New Dependency! Use this to pretty print the JSON\n",
    "# https://docs.python.org/3/library/pprint.html\n",
    "from pprint import pprint"
   ]
  },
  {
   "cell_type": "code",
   "execution_count": 3,
   "metadata": {},
   "outputs": [],
   "source": [
    "# Note that the ?t= is a query param for the t-itle of the\n",
    "# movie we want to search for.\n",
    "url = \"http://www.omdbapi.com/?t=\"\n",
    "api_key = \"&apikey=trilogy\""
   ]
  },
  {
   "cell_type": "code",
   "execution_count": 4,
   "metadata": {},
   "outputs": [],
   "source": [
    "# Performing a GET request similar to the one we executed\n",
    "# earlier\n",
    "NR = []\n",
    "GR = []\n",
    "RD = []\n",
    "ML = []\n",
    "movies=[\"Troy\",\"13th warrior\"]\n",
    "for k in movies:\n",
    "    response = requests.get(url + k + api_key)\n",
    "    data = response.json()\n",
    "    IMDB = float(data['Ratings'][0]['Value'].split('/')[0])/10\n",
    "    RT = int(data['Ratings'][1]['Value'].split('%')[0])/100\n",
    "    MC = int(data['Ratings'][2]['Value'].split('/')[0])/100\n",
    "    R = [IMDB,RT,MC]\n",
    "    Number_Rating = (sum(R) / float(len(R)))*100\n",
    "    NR = list(np.append(NR,Number_Rating))\n",
    "    Grade_Rating = data['Rated']\n",
    "    GR = list(np.append(GR,Grade_Rating))\n",
    "    Release_Date = data['Released']\n",
    "    RD = list(np.append(RD,Release_Date))\n",
    "    L = int(data['Runtime'].split(\" \")[0])\n",
    "    ML = list(np.append(ML,L))\n",
    "\n",
    "#     Grade_Rating = data['Rated']\n",
    "#     Grade_Rating \n",
    "#     Release_Date = data['Released']\n",
    "#     Release_Date"
   ]
  },
  {
   "cell_type": "code",
   "execution_count": 18,
   "metadata": {},
   "outputs": [
    {
     "data": {
      "text/html": [
       "<div>\n",
       "<style scoped>\n",
       "    .dataframe tbody tr th:only-of-type {\n",
       "        vertical-align: middle;\n",
       "    }\n",
       "\n",
       "    .dataframe tbody tr th {\n",
       "        vertical-align: top;\n",
       "    }\n",
       "\n",
       "    .dataframe thead th {\n",
       "        text-align: right;\n",
       "    }\n",
       "</style>\n",
       "<table border=\"1\" class=\"dataframe\">\n",
       "  <thead>\n",
       "    <tr style=\"text-align: right;\">\n",
       "      <th></th>\n",
       "      <th>Movie Name</th>\n",
       "      <th>Grade Rating</th>\n",
       "      <th>Number Rating</th>\n",
       "      <th>Release Date</th>\n",
       "      <th>Movie Length</th>\n",
       "    </tr>\n",
       "  </thead>\n",
       "  <tbody>\n",
       "    <tr>\n",
       "      <th>0</th>\n",
       "      <td>Troy</td>\n",
       "      <td>R</td>\n",
       "      <td>60.666667</td>\n",
       "      <td>14 May 2004</td>\n",
       "      <td>163.0</td>\n",
       "    </tr>\n",
       "    <tr>\n",
       "      <th>1</th>\n",
       "      <td>13th warrior</td>\n",
       "      <td>R</td>\n",
       "      <td>47.000000</td>\n",
       "      <td>27 Aug 1999</td>\n",
       "      <td>102.0</td>\n",
       "    </tr>\n",
       "  </tbody>\n",
       "</table>\n",
       "</div>"
      ],
      "text/plain": [
       "     Movie Name Grade Rating  Number Rating Release Date  Movie Length\n",
       "0          Troy            R      60.666667  14 May 2004         163.0\n",
       "1  13th warrior            R      47.000000  27 Aug 1999         102.0"
      ]
     },
     "execution_count": 18,
     "metadata": {},
     "output_type": "execute_result"
    }
   ],
   "source": [
    "Table = pd.DataFrame({'Movie Name' : movies,\n",
    " 'Grade Rating' : GR,\n",
    " 'Release Date' : RD,\n",
    " 'Number Rating':NR,\n",
    " 'Movie Length':ML,\n",
    "  }, columns=['Movie Name','Grade Rating','Number Rating','Release Date','Movie Length'])\n",
    "Table"
   ]
  },
  {
   "cell_type": "code",
   "execution_count": null,
   "metadata": {},
   "outputs": [],
   "source": [
    "# Converting the response to JSON, and printing the result.\n",
    "data = response.json()\n",
    "pprint(data)"
   ]
  },
  {
   "cell_type": "code",
   "execution_count": null,
   "metadata": {},
   "outputs": [],
   "source": [
    "# Print a few keys from the response JSON.\n",
    "print(f\"Movie was directed by {data['Director']}.\")\n",
    "print(f\"Movie was released in {data['Country']}.\")"
   ]
  },
  {
   "cell_type": "code",
   "execution_count": null,
   "metadata": {},
   "outputs": [],
   "source": [
    "int(data['Runtime'].split(\" \")[0])"
   ]
  },
  {
   "cell_type": "code",
   "execution_count": null,
   "metadata": {},
   "outputs": [],
   "source": [
    "IMDB = float(data['Ratings'][0]['Value'].split('/')[0])/10\n",
    "RT = int(data['Ratings'][1]['Value'].split('%')[0])/100\n",
    "MC = int(data['Ratings'][2]['Value'].split('/')[0])/100\n",
    "R = [IMDB,RT,MC]\n",
    "Number_Rating = (sum(R) / float(len(R)))*100\n",
    "Grade_Rating = data['Rated']\n",
    "Grade_Rating \n",
    "Release_Date = data['Released']\n",
    "Release_Date"
   ]
  },
  {
   "cell_type": "code",
   "execution_count": null,
   "metadata": {},
   "outputs": [],
   "source": [
    "\n"
   ]
  }
 ],
 "metadata": {
  "kernelspec": {
   "display_name": "Python 3",
   "language": "python",
   "name": "python3"
  },
  "language_info": {
   "codemirror_mode": {
    "name": "ipython",
    "version": 3
   },
   "file_extension": ".py",
   "mimetype": "text/x-python",
   "name": "python",
   "nbconvert_exporter": "python",
   "pygments_lexer": "ipython3",
   "version": "3.7.0"
  },
  "varInspector": {
   "cols": {
    "lenName": 16,
    "lenType": 16,
    "lenVar": 40
   },
   "kernels_config": {
    "python": {
     "delete_cmd_postfix": "",
     "delete_cmd_prefix": "del ",
     "library": "var_list.py",
     "varRefreshCmd": "print(var_dic_list())"
    },
    "r": {
     "delete_cmd_postfix": ") ",
     "delete_cmd_prefix": "rm(",
     "library": "var_list.r",
     "varRefreshCmd": "cat(var_dic_list()) "
    }
   },
   "types_to_exclude": [
    "module",
    "function",
    "builtin_function_or_method",
    "instance",
    "_Feature"
   ],
   "window_display": false
  }
 },
 "nbformat": 4,
 "nbformat_minor": 2
}
